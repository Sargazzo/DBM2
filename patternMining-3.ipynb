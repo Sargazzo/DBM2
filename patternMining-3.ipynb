{
 "cells": [
  {
   "cell_type": "code",
   "execution_count": 1,
   "metadata": {
    "scrolled": true
   },
   "outputs": [
    {
     "name": "stdout",
     "output_type": "stream",
     "text": [
      "Requirement already satisfied: apyori in /opt/anaconda3/lib/python3.8/site-packages (1.1.2)\n",
      "\u001b[33mWARNING: You are using pip version 21.3; however, version 21.3.1 is available.\n",
      "You should consider upgrading via the '/opt/anaconda3/bin/python -m pip install --upgrade pip' command.\u001b[0m\n"
     ]
    }
   ],
   "source": [
    "!pip install apyori"
   ]
  },
  {
   "cell_type": "code",
   "execution_count": 2,
   "metadata": {},
   "outputs": [],
   "source": [
    "import numpy as np\n",
    "import pandas as pd\n",
    "import matplotlib.pyplot as plt\n",
    "from apyori import apriori"
   ]
  },
  {
   "cell_type": "code",
   "execution_count": 3,
   "metadata": {},
   "outputs": [],
   "source": [
    "groceries = pd.read_csv('groceries.csv', parse_dates=['Date'])"
   ]
  },
  {
   "cell_type": "code",
   "execution_count": null,
   "metadata": {
    "scrolled": true
   },
   "outputs": [],
   "source": [
    "groceries.shape"
   ]
  },
  {
   "cell_type": "code",
   "execution_count": 5,
   "metadata": {},
   "outputs": [],
   "source": [
    "groceries.columns = ['ID', 'Date', 'Product']"
   ]
  },
  {
   "cell_type": "code",
   "execution_count": 6,
   "metadata": {},
   "outputs": [
    {
     "name": "stdout",
     "output_type": "stream",
     "text": [
      "         ID       Date                Product\n",
      "0      1808 2015-07-21         tropical fruit\n",
      "1      2552 2015-05-01             whole milk\n",
      "2      2300 2015-09-19              pip fruit\n",
      "3      1187 2015-12-12       other vegetables\n",
      "4      3037 2015-01-02             whole milk\n",
      "...     ...        ...                    ...\n",
      "38760  4471 2014-08-10          sliced cheese\n",
      "38761  2022 2014-02-23                  candy\n",
      "38762  1097 2014-04-16               cake bar\n",
      "38763  1510 2014-03-12  fruit/vegetable juice\n",
      "38764  1521 2014-12-26               cat food\n",
      "\n",
      "[38765 rows x 3 columns]\n"
     ]
    }
   ],
   "source": [
    "print(groceries)"
   ]
  },
  {
   "cell_type": "code",
   "execution_count": 7,
   "metadata": {
    "scrolled": true
   },
   "outputs": [
    {
     "data": {
      "text/html": [
       "<div>\n",
       "<style scoped>\n",
       "    .dataframe tbody tr th:only-of-type {\n",
       "        vertical-align: middle;\n",
       "    }\n",
       "\n",
       "    .dataframe tbody tr th {\n",
       "        vertical-align: top;\n",
       "    }\n",
       "\n",
       "    .dataframe thead th {\n",
       "        text-align: right;\n",
       "    }\n",
       "</style>\n",
       "<table border=\"1\" class=\"dataframe\">\n",
       "  <thead>\n",
       "    <tr style=\"text-align: right;\">\n",
       "      <th></th>\n",
       "      <th>ID</th>\n",
       "      <th>Date</th>\n",
       "      <th>Product</th>\n",
       "    </tr>\n",
       "  </thead>\n",
       "  <tbody>\n",
       "    <tr>\n",
       "      <th>0</th>\n",
       "      <td>1808</td>\n",
       "      <td>2015-07-21</td>\n",
       "      <td>tropical fruit</td>\n",
       "    </tr>\n",
       "    <tr>\n",
       "      <th>1</th>\n",
       "      <td>2552</td>\n",
       "      <td>2015-05-01</td>\n",
       "      <td>whole milk</td>\n",
       "    </tr>\n",
       "    <tr>\n",
       "      <th>2</th>\n",
       "      <td>2300</td>\n",
       "      <td>2015-09-19</td>\n",
       "      <td>pip fruit</td>\n",
       "    </tr>\n",
       "    <tr>\n",
       "      <th>3</th>\n",
       "      <td>1187</td>\n",
       "      <td>2015-12-12</td>\n",
       "      <td>other vegetables</td>\n",
       "    </tr>\n",
       "    <tr>\n",
       "      <th>4</th>\n",
       "      <td>3037</td>\n",
       "      <td>2015-01-02</td>\n",
       "      <td>whole milk</td>\n",
       "    </tr>\n",
       "  </tbody>\n",
       "</table>\n",
       "</div>"
      ],
      "text/plain": [
       "     ID       Date           Product\n",
       "0  1808 2015-07-21    tropical fruit\n",
       "1  2552 2015-05-01        whole milk\n",
       "2  2300 2015-09-19         pip fruit\n",
       "3  1187 2015-12-12  other vegetables\n",
       "4  3037 2015-01-02        whole milk"
      ]
     },
     "execution_count": 7,
     "metadata": {},
     "output_type": "execute_result"
    }
   ],
   "source": [
    "groceries.head()"
   ]
  },
  {
   "cell_type": "code",
   "execution_count": 8,
   "metadata": {},
   "outputs": [
    {
     "data": {
      "text/plain": [
       "ID         False\n",
       "Date       False\n",
       "Product    False\n",
       "dtype: bool"
      ]
     },
     "execution_count": 8,
     "metadata": {},
     "output_type": "execute_result"
    }
   ],
   "source": [
    "groceries.isnull().any()"
   ]
  },
  {
   "cell_type": "code",
   "execution_count": 9,
   "metadata": {},
   "outputs": [
    {
     "data": {
      "text/plain": [
       "whole milk               2502\n",
       "other vegetables         1898\n",
       "rolls/buns               1716\n",
       "soda                     1514\n",
       "yogurt                   1334\n",
       "                         ... \n",
       "rubbing alcohol             5\n",
       "bags                        4\n",
       "baby cosmetics              3\n",
       "preservation products       1\n",
       "kitchen utensil             1\n",
       "Name: Product, Length: 167, dtype: int64"
      ]
     },
     "execution_count": 9,
     "metadata": {},
     "output_type": "execute_result"
    }
   ],
   "source": [
    "groceries['Product'].value_counts()"
   ]
  },
  {
   "cell_type": "code",
   "execution_count": 10,
   "metadata": {
    "scrolled": true
   },
   "outputs": [
    {
     "name": "stdout",
     "output_type": "stream",
     "text": [
      "['tropical fruit' 'whole milk' 'pip fruit' 'other vegetables' 'rolls/buns'\n",
      " 'pot plants' 'citrus fruit' 'beef' 'frankfurter' 'chicken' 'butter'\n",
      " 'fruit/vegetable juice' 'packaged fruit/vegetables' 'chocolate'\n",
      " 'specialty bar' 'butter milk' 'bottled water' 'yogurt' 'sausage'\n",
      " 'brown bread' 'hamburger meat' 'root vegetables' 'pork' 'pastry'\n",
      " 'canned beer' 'berries' 'coffee' 'misc. beverages' 'ham' 'turkey'\n",
      " 'curd cheese' 'red/blush wine' 'frozen potato products' 'flour' 'sugar'\n",
      " 'frozen meals' 'herbs' 'soda' 'detergent' 'grapes' 'processed cheese'\n",
      " 'fish' 'sparkling wine' 'newspapers' 'curd' 'pasta' 'popcorn'\n",
      " 'finished products' 'beverages' 'bottled beer' 'dessert' 'dog food'\n",
      " 'specialty chocolate' 'condensed milk' 'cleaner' 'white wine' 'meat'\n",
      " 'ice cream' 'hard cheese' 'cream cheese ' 'liquor' 'pickled vegetables'\n",
      " 'liquor (appetizer)' 'UHT-milk' 'candy' 'onions' 'hair spray'\n",
      " 'photo/film' 'domestic eggs' 'margarine' 'shopping bags' 'salt' 'oil'\n",
      " 'whipped/sour cream' 'frozen vegetables' 'sliced cheese' 'dish cleaner'\n",
      " 'baking powder' 'specialty cheese' 'salty snack' 'Instant food products'\n",
      " 'pet care' 'white bread' 'female sanitary products' 'cling film/bags'\n",
      " 'soap' 'frozen chicken' 'house keeping products' 'spread cheese'\n",
      " 'decalcifier' 'frozen dessert' 'vinegar' 'nuts/prunes' 'potato products'\n",
      " 'frozen fish' 'hygiene articles' 'artif. sweetener' 'light bulbs'\n",
      " 'canned vegetables' 'chewing gum' 'canned fish' 'cookware'\n",
      " 'semi-finished bread' 'cat food' 'bathroom cleaner' 'prosecco'\n",
      " 'liver loaf' 'zwieback' 'canned fruit' 'frozen fruits' 'brandy'\n",
      " 'baby cosmetics' 'spices' 'napkins' 'waffles' 'sauces' 'rum'\n",
      " 'chocolate marshmallow' 'long life bakery product' 'bags' 'sweet spreads'\n",
      " 'soups' 'mustard' 'specialty fat' 'instant coffee' 'snack products'\n",
      " 'organic sausage' 'soft cheese' 'mayonnaise' 'dental care'\n",
      " 'roll products ' 'kitchen towels' 'flower soil/fertilizer' 'cereals'\n",
      " 'meat spreads' 'dishes' 'male cosmetics' 'candles' 'whisky' 'tidbits'\n",
      " 'cooking chocolate' 'seasonal products' 'liqueur' 'abrasive cleaner'\n",
      " 'syrup' 'ketchup' 'cream' 'skin care' 'rubbing alcohol' 'nut snack'\n",
      " 'cocoa drinks' 'softener' 'organic products' 'cake bar' 'honey' 'jam'\n",
      " 'kitchen utensil' 'flower (seeds)' 'rice' 'tea' 'salad dressing'\n",
      " 'specialty vegetables' 'pudding powder' 'ready soups' 'make up remover'\n",
      " 'toilet cleaner' 'preservation products']\n"
     ]
    }
   ],
   "source": [
    "products = groceries['Product'].unique()\n",
    "print(products)"
   ]
  },
  {
   "cell_type": "code",
   "execution_count": 11,
   "metadata": {},
   "outputs": [],
   "source": [
    "records=groceries.groupby(['ID', 'Date'])['Product'].apply(lambda x: list(x))"
   ]
  },
  {
   "cell_type": "code",
   "execution_count": 12,
   "metadata": {},
   "outputs": [
    {
     "name": "stdout",
     "output_type": "stream",
     "text": [
      "ID    Date      \n",
      "1000  2014-06-24                    [whole milk, pastry, salty snack]\n",
      "      2015-03-15    [sausage, whole milk, semi-finished bread, yog...\n",
      "      2015-05-27                           [soda, pickled vegetables]\n",
      "      2015-07-24                       [canned beer, misc. beverages]\n",
      "      2015-11-25                          [sausage, hygiene articles]\n",
      "                                          ...                        \n",
      "4999  2015-05-16                    [butter milk, whipped/sour cream]\n",
      "      2015-12-26                               [bottled water, herbs]\n",
      "5000  2014-09-03                      [fruit/vegetable juice, onions]\n",
      "      2014-11-16                     [bottled beer, other vegetables]\n",
      "      2015-10-02         [soda, root vegetables, semi-finished bread]\n",
      "Name: Product, Length: 14963, dtype: object\n"
     ]
    }
   ],
   "source": [
    "print(records)"
   ]
  },
  {
   "cell_type": "code",
   "execution_count": 13,
   "metadata": {},
   "outputs": [
    {
     "data": {
      "text/plain": [
       "[['whole milk', 'pastry', 'salty snack'],\n",
       " ['sausage', 'whole milk', 'semi-finished bread', 'yogurt'],\n",
       " ['soda', 'pickled vegetables'],\n",
       " ['canned beer', 'misc. beverages'],\n",
       " ['sausage', 'hygiene articles'],\n",
       " ['sausage', 'whole milk', 'rolls/buns'],\n",
       " ['whole milk', 'soda'],\n",
       " ['frankfurter', 'soda', 'whipped/sour cream'],\n",
       " ['frankfurter', 'curd'],\n",
       " ['beef', 'white bread']]"
      ]
     },
     "execution_count": 13,
     "metadata": {},
     "output_type": "execute_result"
    }
   ],
   "source": [
    "transactions = records.values.tolist()\n",
    "transactions[:10]"
   ]
  },
  {
   "cell_type": "code",
   "execution_count": null,
   "metadata": {},
   "outputs": [],
   "source": [
    "rules = apriori(transactions, min_support=0.00030,min_confidence = 0.05,min_lift = 2,min_length = 2)\n",
    "results = list(rules)\n",
    "print(results)"
   ]
  },
  {
   "cell_type": "code",
   "execution_count": null,
   "metadata": {},
   "outputs": [],
   "source": [
    "for item in results:\n",
    "    pair = item[0] \n",
    "    items = [x for x in pair]\n",
    "    print( items[0] + \" -> \" + items[1])\n",
    "\n",
    "    print(\"sup: \" + str(item[1]) + \", \" + \"conf: \" + str(item[2][0][2]) + \", \" + \"lift: \" + str(item[2][0][3]))\n",
    "\n",
    "    print(\"------------------\")"
   ]
  }
 ],
 "metadata": {
  "kernelspec": {
   "display_name": "Python 3",
   "language": "python",
   "name": "python3"
  },
  "language_info": {
   "codemirror_mode": {
    "name": "ipython",
    "version": 3
   },
   "file_extension": ".py",
   "mimetype": "text/x-python",
   "name": "python",
   "nbconvert_exporter": "python",
   "pygments_lexer": "ipython3",
   "version": "3.8.3"
  }
 },
 "nbformat": 4,
 "nbformat_minor": 4
}
