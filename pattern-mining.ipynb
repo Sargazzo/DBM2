{
 "cells": [
  {
   "cell_type": "markdown",
   "metadata": {
    "scrolled": true
   },
   "source": [
    "<div class=\"pull-left\">\n",
    "\n",
    "Katharina Alefs, Joāo dos Santos Marques\n",
    "\n",
    "DBM2: Data Mining\n",
    "\n",
    "</div>\n",
    "\n",
    "<div class=\"pull-right\">\n",
    "\n",
    "<h4> 20.12.2021 </h4>\n",
    "\n",
    "</div>"
   ]
  },
  {
   "cell_type": "markdown",
   "metadata": {},
   "source": [
    "## Data Mining Project: Frequent Pattern Mining"
   ]
  },
  {
   "cell_type": "markdown",
   "metadata": {},
   "source": [
    "This notebook explains how we approached the **Pattern Mining** part of the Data Mining project. We performed a typical Basket Analysis to discover frequent itemsets that were bought together in the form of association rules.\n",
    "\n",
    "**Data**\n",
    "\n",
    "The data that we have worked with has been obtained through the kaggle website.It covers data from 2014-01-05 to 2015-12-29 and stores purchase information from roughly 4000 customers. \n",
    "The columns of the dataset contain the following information:\n",
    "- Member_number: ID of customer\n",
    "- Date : date of purchase\n",
    "- itemDescription : name of each product bought\n",
    "\n",
    "**Methods**\n",
    "\n",
    "We have chosen to work with the **Apriori Algorithm** for frequent itemset mining. It identifies the frequent individual items in the dataset and extends them to larger item sets as long as those item sets appear sufficiently often in the database. It is very commonly used in market basket analysis."
   ]
  },
  {
   "cell_type": "code",
   "execution_count": 128,
   "metadata": {},
   "outputs": [
    {
     "name": "stdout",
     "output_type": "stream",
     "text": [
      "Requirement already satisfied: apyori in /opt/anaconda3/lib/python3.8/site-packages (1.1.2)\n",
      "\u001b[33mWARNING: You are using pip version 21.3; however, version 21.3.1 is available.\n",
      "You should consider upgrading via the '/opt/anaconda3/bin/python -m pip install --upgrade pip' command.\u001b[0m\n"
     ]
    }
   ],
   "source": [
    "!pip install apyori"
   ]
  },
  {
   "cell_type": "code",
   "execution_count": 129,
   "metadata": {},
   "outputs": [],
   "source": [
    "# necessary imports\n",
    "import numpy as np\n",
    "import pandas as pd\n",
    "import matplotlib.pyplot as plt\n",
    "import seaborn as sns\n",
    "from apyori import apriori"
   ]
  },
  {
   "cell_type": "code",
   "execution_count": 130,
   "metadata": {},
   "outputs": [],
   "source": [
    "groceries = pd.read_csv('groceries.csv', parse_dates=['Date'])"
   ]
  },
  {
   "cell_type": "code",
   "execution_count": 131,
   "metadata": {
    "scrolled": true
   },
   "outputs": [
    {
     "data": {
      "text/plain": [
       "(38765, 3)"
      ]
     },
     "execution_count": 131,
     "metadata": {},
     "output_type": "execute_result"
    }
   ],
   "source": [
    "groceries.shape"
   ]
  },
  {
   "cell_type": "code",
   "execution_count": 132,
   "metadata": {},
   "outputs": [
    {
     "name": "stdout",
     "output_type": "stream",
     "text": [
      "       Member_number       Date        itemDescription\n",
      "0               1808 2015-07-21         tropical fruit\n",
      "1               2552 2015-05-01             whole milk\n",
      "2               2300 2015-09-19              pip fruit\n",
      "3               1187 2015-12-12       other vegetables\n",
      "4               3037 2015-01-02             whole milk\n",
      "...              ...        ...                    ...\n",
      "38760           4471 2014-08-10          sliced cheese\n",
      "38761           2022 2014-02-23                  candy\n",
      "38762           1097 2014-04-16               cake bar\n",
      "38763           1510 2014-03-12  fruit/vegetable juice\n",
      "38764           1521 2014-12-26               cat food\n",
      "\n",
      "[38765 rows x 3 columns]\n"
     ]
    }
   ],
   "source": [
    "print(groceries)"
   ]
  },
  {
   "cell_type": "code",
   "execution_count": 133,
   "metadata": {},
   "outputs": [],
   "source": [
    "# rename columns\n",
    "groceries.columns = ['ID', 'Date', 'Product']"
   ]
  },
  {
   "cell_type": "code",
   "execution_count": 134,
   "metadata": {
    "scrolled": true
   },
   "outputs": [
    {
     "data": {
      "text/html": [
       "<div>\n",
       "<style scoped>\n",
       "    .dataframe tbody tr th:only-of-type {\n",
       "        vertical-align: middle;\n",
       "    }\n",
       "\n",
       "    .dataframe tbody tr th {\n",
       "        vertical-align: top;\n",
       "    }\n",
       "\n",
       "    .dataframe thead th {\n",
       "        text-align: right;\n",
       "    }\n",
       "</style>\n",
       "<table border=\"1\" class=\"dataframe\">\n",
       "  <thead>\n",
       "    <tr style=\"text-align: right;\">\n",
       "      <th></th>\n",
       "      <th>ID</th>\n",
       "      <th>Date</th>\n",
       "      <th>Product</th>\n",
       "    </tr>\n",
       "  </thead>\n",
       "  <tbody>\n",
       "    <tr>\n",
       "      <th>0</th>\n",
       "      <td>1808</td>\n",
       "      <td>2015-07-21</td>\n",
       "      <td>tropical fruit</td>\n",
       "    </tr>\n",
       "    <tr>\n",
       "      <th>1</th>\n",
       "      <td>2552</td>\n",
       "      <td>2015-05-01</td>\n",
       "      <td>whole milk</td>\n",
       "    </tr>\n",
       "    <tr>\n",
       "      <th>2</th>\n",
       "      <td>2300</td>\n",
       "      <td>2015-09-19</td>\n",
       "      <td>pip fruit</td>\n",
       "    </tr>\n",
       "    <tr>\n",
       "      <th>3</th>\n",
       "      <td>1187</td>\n",
       "      <td>2015-12-12</td>\n",
       "      <td>other vegetables</td>\n",
       "    </tr>\n",
       "    <tr>\n",
       "      <th>4</th>\n",
       "      <td>3037</td>\n",
       "      <td>2015-01-02</td>\n",
       "      <td>whole milk</td>\n",
       "    </tr>\n",
       "  </tbody>\n",
       "</table>\n",
       "</div>"
      ],
      "text/plain": [
       "     ID       Date           Product\n",
       "0  1808 2015-07-21    tropical fruit\n",
       "1  2552 2015-05-01        whole milk\n",
       "2  2300 2015-09-19         pip fruit\n",
       "3  1187 2015-12-12  other vegetables\n",
       "4  3037 2015-01-02        whole milk"
      ]
     },
     "execution_count": 134,
     "metadata": {},
     "output_type": "execute_result"
    }
   ],
   "source": [
    "groceries.head()"
   ]
  },
  {
   "cell_type": "code",
   "execution_count": 135,
   "metadata": {},
   "outputs": [
    {
     "data": {
      "text/plain": [
       "ID         False\n",
       "Date       False\n",
       "Product    False\n",
       "dtype: bool"
      ]
     },
     "execution_count": 135,
     "metadata": {},
     "output_type": "execute_result"
    }
   ],
   "source": [
    "# check for null values\n",
    "groceries.isnull().any()"
   ]
  },
  {
   "cell_type": "code",
   "execution_count": 136,
   "metadata": {},
   "outputs": [
    {
     "data": {
      "text/plain": [
       "whole milk               2502\n",
       "other vegetables         1898\n",
       "rolls/buns               1716\n",
       "soda                     1514\n",
       "yogurt                   1334\n",
       "                         ... \n",
       "rubbing alcohol             5\n",
       "bags                        4\n",
       "baby cosmetics              3\n",
       "kitchen utensil             1\n",
       "preservation products       1\n",
       "Name: Product, Length: 167, dtype: int64"
      ]
     },
     "execution_count": 136,
     "metadata": {},
     "output_type": "execute_result"
    }
   ],
   "source": [
    "# frequency of top products bought\n",
    "groceries['Product'].value_counts()"
   ]
  },
  {
   "cell_type": "code",
   "execution_count": 137,
   "metadata": {},
   "outputs": [
    {
     "data": {
      "image/png": "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\n",
      "text/plain": [
       "<Figure size 432x288 with 1 Axes>"
      ]
     },
     "metadata": {
      "needs_background": "light"
     },
     "output_type": "display_data"
    }
   ],
   "source": [
    "frequencies = groceries['Product'].value_counts().rename_axis('product').reset_index(name='count')\n",
    "top_fifteen = frequencies.sort_values('count', ascending = False)[:15]\n",
    "\n",
    "sns.lineplot(x = top_fifteen['product'], y = top_fifteen['count'], sort=False)\n",
    "plt.xlabel('product')\n",
    "plt.xticks(rotation=60)\n",
    "plt.ylabel('count')\n",
    "plt.title('Most popular products')\n",
    "plt.show()"
   ]
  },
  {
   "cell_type": "code",
   "execution_count": 138,
   "metadata": {
    "scrolled": true
   },
   "outputs": [
    {
     "name": "stdout",
     "output_type": "stream",
     "text": [
      "['tropical fruit' 'whole milk' 'pip fruit' 'other vegetables' 'rolls/buns'\n",
      " 'pot plants' 'citrus fruit' 'beef' 'frankfurter' 'chicken' 'butter'\n",
      " 'fruit/vegetable juice' 'packaged fruit/vegetables' 'chocolate'\n",
      " 'specialty bar' 'butter milk' 'bottled water' 'yogurt' 'sausage'\n",
      " 'brown bread' 'hamburger meat' 'root vegetables' 'pork' 'pastry'\n",
      " 'canned beer' 'berries' 'coffee' 'misc. beverages' 'ham' 'turkey'\n",
      " 'curd cheese' 'red/blush wine' 'frozen potato products' 'flour' 'sugar'\n",
      " 'frozen meals' 'herbs' 'soda' 'detergent' 'grapes' 'processed cheese'\n",
      " 'fish' 'sparkling wine' 'newspapers' 'curd' 'pasta' 'popcorn'\n",
      " 'finished products' 'beverages' 'bottled beer' 'dessert' 'dog food'\n",
      " 'specialty chocolate' 'condensed milk' 'cleaner' 'white wine' 'meat'\n",
      " 'ice cream' 'hard cheese' 'cream cheese ' 'liquor' 'pickled vegetables'\n",
      " 'liquor (appetizer)' 'UHT-milk' 'candy' 'onions' 'hair spray'\n",
      " 'photo/film' 'domestic eggs' 'margarine' 'shopping bags' 'salt' 'oil'\n",
      " 'whipped/sour cream' 'frozen vegetables' 'sliced cheese' 'dish cleaner'\n",
      " 'baking powder' 'specialty cheese' 'salty snack' 'Instant food products'\n",
      " 'pet care' 'white bread' 'female sanitary products' 'cling film/bags'\n",
      " 'soap' 'frozen chicken' 'house keeping products' 'spread cheese'\n",
      " 'decalcifier' 'frozen dessert' 'vinegar' 'nuts/prunes' 'potato products'\n",
      " 'frozen fish' 'hygiene articles' 'artif. sweetener' 'light bulbs'\n",
      " 'canned vegetables' 'chewing gum' 'canned fish' 'cookware'\n",
      " 'semi-finished bread' 'cat food' 'bathroom cleaner' 'prosecco'\n",
      " 'liver loaf' 'zwieback' 'canned fruit' 'frozen fruits' 'brandy'\n",
      " 'baby cosmetics' 'spices' 'napkins' 'waffles' 'sauces' 'rum'\n",
      " 'chocolate marshmallow' 'long life bakery product' 'bags' 'sweet spreads'\n",
      " 'soups' 'mustard' 'specialty fat' 'instant coffee' 'snack products'\n",
      " 'organic sausage' 'soft cheese' 'mayonnaise' 'dental care'\n",
      " 'roll products ' 'kitchen towels' 'flower soil/fertilizer' 'cereals'\n",
      " 'meat spreads' 'dishes' 'male cosmetics' 'candles' 'whisky' 'tidbits'\n",
      " 'cooking chocolate' 'seasonal products' 'liqueur' 'abrasive cleaner'\n",
      " 'syrup' 'ketchup' 'cream' 'skin care' 'rubbing alcohol' 'nut snack'\n",
      " 'cocoa drinks' 'softener' 'organic products' 'cake bar' 'honey' 'jam'\n",
      " 'kitchen utensil' 'flower (seeds)' 'rice' 'tea' 'salad dressing'\n",
      " 'specialty vegetables' 'pudding powder' 'ready soups' 'make up remover'\n",
      " 'toilet cleaner' 'preservation products']\n"
     ]
    }
   ],
   "source": [
    "# all the products that have been purchased\n",
    "products = groceries['Product'].unique()\n",
    "print(products)"
   ]
  },
  {
   "cell_type": "code",
   "execution_count": 139,
   "metadata": {},
   "outputs": [
    {
     "data": {
      "text/plain": [
       "ID    Date      \n",
       "1000  2014-06-24                    [whole milk, pastry, salty snack]\n",
       "      2015-03-15    [sausage, whole milk, semi-finished bread, yog...\n",
       "      2015-05-27                           [soda, pickled vegetables]\n",
       "      2015-07-24                       [canned beer, misc. beverages]\n",
       "      2015-11-25                          [sausage, hygiene articles]\n",
       "1001  2014-07-02                    [sausage, whole milk, rolls/buns]\n",
       "      2014-12-12                                   [whole milk, soda]\n",
       "      2015-01-20              [frankfurter, soda, whipped/sour cream]\n",
       "      2015-02-05                                  [frankfurter, curd]\n",
       "      2015-04-14                                  [beef, white bread]\n",
       "Name: Product, dtype: object"
      ]
     },
     "execution_count": 139,
     "metadata": {},
     "output_type": "execute_result"
    }
   ],
   "source": [
    "# group purchases by date and customer and add items to list\n",
    "records=groceries.groupby(['ID','Date'])['Product'].apply(lambda x: list(x))\n",
    "records[:10]"
   ]
  },
  {
   "cell_type": "code",
   "execution_count": 140,
   "metadata": {},
   "outputs": [
    {
     "data": {
      "text/plain": [
       "[['whole milk', 'pastry', 'salty snack'],\n",
       " ['sausage', 'whole milk', 'semi-finished bread', 'yogurt'],\n",
       " ['soda', 'pickled vegetables'],\n",
       " ['canned beer', 'misc. beverages'],\n",
       " ['sausage', 'hygiene articles'],\n",
       " ['sausage', 'whole milk', 'rolls/buns'],\n",
       " ['whole milk', 'soda'],\n",
       " ['frankfurter', 'soda', 'whipped/sour cream'],\n",
       " ['frankfurter', 'curd'],\n",
       " ['beef', 'white bread']]"
      ]
     },
     "execution_count": 140,
     "metadata": {},
     "output_type": "execute_result"
    }
   ],
   "source": [
    "transactions = records.values.tolist()\n",
    "transactions[:10]"
   ]
  },
  {
   "cell_type": "code",
   "execution_count": 141,
   "metadata": {},
   "outputs": [
    {
     "data": {
      "text/plain": [
       "14963"
      ]
     },
     "execution_count": 141,
     "metadata": {},
     "output_type": "execute_result"
    }
   ],
   "source": [
    "# number of transactions\n",
    "len(transactions)"
   ]
  },
  {
   "cell_type": "code",
   "execution_count": 142,
   "metadata": {},
   "outputs": [],
   "source": [
    "# compute association rules from set of transactions (min_support at least 0.0003)\n",
    "rules = apriori(transactions, min_support=0.00050,min_confidence = 0.05,min_lift = 2,min_length = 2)\n",
    "results = list(rules)"
   ]
  },
  {
   "cell_type": "code",
   "execution_count": 143,
   "metadata": {},
   "outputs": [
    {
     "name": "stdout",
     "output_type": "stream",
     "text": [
      "whole milk -> brandy\n",
      "sup: 0.0008688097306689834, conf: 0.34210526315789475, lift: 2.1662805978127717\n",
      "------------------\n",
      "frankfurter -> mustard\n",
      "sup: 0.0005346521419501437, conf: 0.08695652173913045, lift: 2.302885725278954\n",
      "------------------\n",
      "ham -> pickled vegetables\n",
      "sup: 0.0005346521419501437, conf: 0.05970149253731344, lift: 3.4895055970149254\n",
      "------------------\n",
      "hamburger meat -> soft cheese\n",
      "sup: 0.0006014836596939117, conf: 0.060000000000000005, lift: 2.745504587155964\n",
      "------------------\n",
      "pip fruit -> sweet spreads\n",
      "sup: 0.0005346521419501437, conf: 0.11764705882352942, lift: 2.398301009777208\n",
      "------------------\n",
      "soda -> spices\n",
      "sup: 0.0006014836596939117, conf: 0.225, lift: 2.317050929112182\n",
      "------------------\n",
      "tropical fruit -> sweet spreads\n",
      "sup: 0.0007351466951814476, conf: 0.16176470588235295, lift: 2.387066365007542\n",
      "------------------\n",
      "shopping bags -> sausage\n",
      "sup: 0.0005346521419501437, conf: 0.2758620689655173, lift: 2.259290715890003\n",
      "------------------\n",
      "soda -> sausage\n",
      "sup: 0.0005346521419501437, conf: 0.13114754098360656, lift: 2.1731568723562624\n",
      "------------------\n",
      "sausage -> whole milk\n",
      "sup: 0.0006014836596939117, conf: 0.391304347826087, lift: 2.4778192791035716\n",
      "------------------\n",
      "yogurt -> rolls/buns\n",
      "sup: 0.0006014836596939117, conf: 0.20454545454545456, lift: 2.3818004952246197\n",
      "------------------\n",
      "sausage -> whole milk\n",
      "sup: 0.0014702933903628951, conf: 0.1317365269461078, lift: 2.1829165589087607\n",
      "------------------\n"
     ]
    }
   ],
   "source": [
    "# generate a more readable ouput - support, confidence and lift for each rule\n",
    "for item in results:\n",
    "    pair = item[0] \n",
    "    items = [x for x in pair]\n",
    "    print( items[0] + \" -> \" + items[1])\n",
    "\n",
    "    print(\"sup: \" + str(item[1]) + \", \" + \"conf: \" + str(item[2][0][2]) + \", \" + \"lift: \" + str(item[2][0][3]))\n",
    "\n",
    "    print(\"------------------\")"
   ]
  },
  {
   "cell_type": "markdown",
   "metadata": {},
   "source": [
    "##Results"
    "It is evident that all the rules Apriori can find have quite a low support. We assume that this is mostly due to the size of the dataset (there are more than 38,000 rows) but also because we work with a large amount of transactions (still more than 14,000) and a range of 167 different products. Still the rules seem valid since confidence is decent and lift quite high for most rules.\n",
    "Interestingly some of the rules already logically make sense, as for example in the case of frankfurter -> mustard. People who buy sausages often eat it in combination with a sauce. \n",
    "To generalize more on the types of buyers it would make sense to not only look at single transactions but combine all the items that a person has bought within the time period recorded. So far, we only look at which items are bought in combination within one shopping trip."
   ]
  }
 ],
 "metadata": {
  "kernelspec": {
   "display_name": "Python 3",
   "language": "python",
   "name": "python3"
  },
  "language_info": {
   "codemirror_mode": {
    "name": "ipython",
    "version": 3
   },
   "file_extension": ".py",
   "mimetype": "text/x-python",
   "name": "python",
   "nbconvert_exporter": "python",
   "pygments_lexer": "ipython3",
   "version": "3.8.3"
  }
 },
 "nbformat": 4,
 "nbformat_minor": 4
}
