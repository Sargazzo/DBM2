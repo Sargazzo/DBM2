{
 "cells": [
  {
   "cell_type": "markdown",
   "metadata": {
    "id": "SB0839m1Ni8B"
   },
   "source": [
    "<div class=\"pull-left\">\n",
    "\n",
    "Katharina Alefs, Joāo dos Santos Marques\n",
    "\n",
    "DBM2: Data Mining\n",
    "\n",
    "</div>\n",
    "\n",
    "<div class=\"pull-right\">\n",
    "\n",
    "<h4> 20.12.2021 </h4>\n",
    "\n",
    "</div>"
   ]
  },
  {
   "cell_type": "markdown",
   "metadata": {},
   "source": [
    "## Data Mining Project: Classification"
   ]
  },
  {
   "cell_type": "markdown",
   "metadata": {
    "id": "R2GsfFIiMODv"
   },
   "source": [
    "This notebook explains how we approached the **Classification** part of the Data Mining project using Kestrokes Authentification.\n",
    "\n",
    "\n",
    "**Data:**\n",
    "\n",
    "We found a dataset from Kaggle on Keystrokes Dynamics which was relatively clean and in a good format. This dataset by Carnegie Mellon University provides keystroke timing information from 51 American subjects each typing the password '.tie5Roanl' for 400 times within 8 sessions à 50 repetitions each. \n",
    "\n",
    "The columns of the dataset contain the following information: \n",
    "- 'Hold' (H): timestamp key was held down\n",
    "- 'Down-Down' (DD): time between pressing down one key and its subsequent key\n",
    "- 'Up-Down' (UD): time releasing a key and pressing the following one.\n",
    "\n",
    "Given that these time periods are linearly dependent on each other, as H time and UD time add up to DD time, we preprocessed the dataset by dropping the DD columns whilst preserving the same degree of detail. We ensured that our data was free of null entries and checked for redundancy. \n",
    "\n",
    "In the following step we gained first knowledge of the dataset by applying Exploratory Data Analysis methods, such as creating boxplots for Hold and Up-Down times. For a first impression of the data, we also generated descriptive statistics.\n",
    "\n",
    "In addition to the dataset we also inserted our own keystrokes in order to be able to answer and analyze the research questions. We only collected the keystroke timestamps that correspond to our needs (H, UD). \n",
    "\n",
    "**Methods:**\n",
    "\n",
    "We implemented the <strong>Naïve Bayesian Classifier</strong> which is based on applying Bayes' theorem with strong independence assumptions between the features. It is a highly scalable technique for constructing classifiers. The ‘naïve’ version assumes that each input variable is independent. \n",
    "\n",
    "Additionally, we used the <strong>Decision Tree</strong> algorithm, as it has the ability to capture descriptive decision-making information from the provided data. The Decision Tree algorithm divides the data by defining hierarchical splitting conditions, breaking the universe of classes into subgroups until a final decision is being taken in a leaf node. One of the biggest advantages of the algorithm is that it is easily interpretable."
   ]
  },
  {
   "cell_type": "code",
   "execution_count": 63,
   "metadata": {
    "id": "NF0dQMxHSDQy"
   },
   "outputs": [],
   "source": [
    "#Import needed libraries\n",
    "import pandas as pd\n",
    "import numpy as np\n",
    "import matplotlib.pyplot as plt\n",
    "import random\n",
    "from sklearn.tree import DecisionTreeClassifier # Import Decision Tree Classifier\n",
    "from sklearn.model_selection import train_test_split # Import train_test_split function\n",
    "from sklearn import metrics #Import scikit-learn metrics module for accuracy calculation\n",
    "from six import StringIO\n",
    "from PIL import Image\n",
    "import math\n",
    "from sklearn.naive_bayes import GaussianNB"
   ]
  },
  {
   "cell_type": "code",
   "execution_count": 64,
   "metadata": {
    "id": "qStw00U9RioQ"
   },
   "outputs": [],
   "source": [
    "# Preprocess the data by dropping DD columns, as well as renaming subject rows\n",
    "\n",
    "def subject_to_int(subjectDesc):\n",
    "    onlyDigits = ''.join(char for char in subjectDesc if char.isdigit())\n",
    "    res = int(onlyDigits)\n",
    "    return res\n",
    "\n",
    "\n",
    "def drop_column(dff):\n",
    "    for column in dff:\n",
    "        if \"DD\" in column:\n",
    "            dff = dff.drop(column, 1)\n",
    "    return dff\n",
    "\n",
    "def preprocess(file):\n",
    "    df = pd.read_csv(file)\n",
    "    df = drop_column(df)\n",
    "    df['subject'] = df['subject'].apply(subject_to_int)\n",
    "    return df"
   ]
  },
  {
   "cell_type": "code",
   "execution_count": 65,
   "metadata": {},
   "outputs": [],
   "source": [
    "#preprocessed data\n",
    "df = preprocess('basedata.csv')"
   ]
  },
  {
   "cell_type": "code",
   "execution_count": 66,
   "metadata": {},
   "outputs": [
    {
     "data": {
      "text/plain": [
       "(20400, 24)"
      ]
     },
     "execution_count": 66,
     "metadata": {},
     "output_type": "execute_result"
    }
   ],
   "source": [
    "df.shape"
   ]
  },
  {
   "cell_type": "code",
   "execution_count": 67,
   "metadata": {},
   "outputs": [
    {
     "name": "stdout",
     "output_type": "stream",
     "text": [
      "<class 'pandas.core.frame.DataFrame'>\n",
      "RangeIndex: 20400 entries, 0 to 20399\n",
      "Data columns (total 24 columns):\n",
      " #   Column           Non-Null Count  Dtype  \n",
      "---  ------           --------------  -----  \n",
      " 0   subject          20400 non-null  int64  \n",
      " 1   sessionIndex     20400 non-null  int64  \n",
      " 2   rep              20400 non-null  int64  \n",
      " 3   H.period         20400 non-null  float64\n",
      " 4   UD.period.t      20400 non-null  float64\n",
      " 5   H.t              20400 non-null  float64\n",
      " 6   UD.t.i           20400 non-null  float64\n",
      " 7   H.i              20400 non-null  float64\n",
      " 8   UD.i.e           20400 non-null  float64\n",
      " 9   H.e              20400 non-null  float64\n",
      " 10  UD.e.five        20400 non-null  float64\n",
      " 11  H.five           20400 non-null  float64\n",
      " 12  UD.five.Shift.r  20400 non-null  float64\n",
      " 13  H.Shift.r        20400 non-null  float64\n",
      " 14  UD.Shift.r.o     20400 non-null  float64\n",
      " 15  H.o              20400 non-null  float64\n",
      " 16  UD.o.a           20400 non-null  float64\n",
      " 17  H.a              20400 non-null  float64\n",
      " 18  UD.a.n           20400 non-null  float64\n",
      " 19  H.n              20400 non-null  float64\n",
      " 20  UD.n.l           20400 non-null  float64\n",
      " 21  H.l              20400 non-null  float64\n",
      " 22  UD.l.Return      20400 non-null  float64\n",
      " 23  H.Return         20400 non-null  float64\n",
      "dtypes: float64(21), int64(3)\n",
      "memory usage: 3.7 MB\n"
     ]
    }
   ],
   "source": [
    "df.info()"
   ]
  },
  {
   "cell_type": "code",
   "execution_count": 68,
   "metadata": {},
   "outputs": [
    {
     "data": {
      "text/plain": [
       "subject            False\n",
       "sessionIndex       False\n",
       "rep                False\n",
       "H.period           False\n",
       "UD.period.t        False\n",
       "H.t                False\n",
       "UD.t.i             False\n",
       "H.i                False\n",
       "UD.i.e             False\n",
       "H.e                False\n",
       "UD.e.five          False\n",
       "H.five             False\n",
       "UD.five.Shift.r    False\n",
       "H.Shift.r          False\n",
       "UD.Shift.r.o       False\n",
       "H.o                False\n",
       "UD.o.a             False\n",
       "H.a                False\n",
       "UD.a.n             False\n",
       "H.n                False\n",
       "UD.n.l             False\n",
       "H.l                False\n",
       "UD.l.Return        False\n",
       "H.Return           False\n",
       "dtype: bool"
      ]
     },
     "execution_count": 68,
     "metadata": {},
     "output_type": "execute_result"
    }
   ],
   "source": [
    "df.isnull().any()"
   ]
  },
  {
   "cell_type": "code",
   "execution_count": 69,
   "metadata": {
    "scrolled": true
   },
   "outputs": [
    {
     "data": {
      "text/html": [
       "<div>\n",
       "<style scoped>\n",
       "    .dataframe tbody tr th:only-of-type {\n",
       "        vertical-align: middle;\n",
       "    }\n",
       "\n",
       "    .dataframe tbody tr th {\n",
       "        vertical-align: top;\n",
       "    }\n",
       "\n",
       "    .dataframe thead th {\n",
       "        text-align: right;\n",
       "    }\n",
       "</style>\n",
       "<table border=\"1\" class=\"dataframe\">\n",
       "  <thead>\n",
       "    <tr style=\"text-align: right;\">\n",
       "      <th></th>\n",
       "      <th>H.period</th>\n",
       "      <th>UD.period.t</th>\n",
       "      <th>H.t</th>\n",
       "      <th>UD.t.i</th>\n",
       "      <th>H.i</th>\n",
       "      <th>UD.i.e</th>\n",
       "      <th>H.e</th>\n",
       "      <th>UD.e.five</th>\n",
       "      <th>H.five</th>\n",
       "      <th>UD.five.Shift.r</th>\n",
       "      <th>...</th>\n",
       "      <th>UD.Shift.r.o</th>\n",
       "      <th>H.o</th>\n",
       "      <th>UD.o.a</th>\n",
       "      <th>H.a</th>\n",
       "      <th>UD.a.n</th>\n",
       "      <th>H.n</th>\n",
       "      <th>UD.n.l</th>\n",
       "      <th>H.l</th>\n",
       "      <th>UD.l.Return</th>\n",
       "      <th>H.Return</th>\n",
       "    </tr>\n",
       "  </thead>\n",
       "  <tbody>\n",
       "    <tr>\n",
       "      <th>count</th>\n",
       "      <td>20400.000000</td>\n",
       "      <td>20400.000000</td>\n",
       "      <td>20400.000000</td>\n",
       "      <td>20400.000000</td>\n",
       "      <td>20400.000000</td>\n",
       "      <td>20400.000000</td>\n",
       "      <td>20400.000000</td>\n",
       "      <td>20400.000000</td>\n",
       "      <td>20400.000000</td>\n",
       "      <td>20400.000000</td>\n",
       "      <td>...</td>\n",
       "      <td>20400.000000</td>\n",
       "      <td>20400.000000</td>\n",
       "      <td>20400.000000</td>\n",
       "      <td>20400.000000</td>\n",
       "      <td>20400.000000</td>\n",
       "      <td>20400.000000</td>\n",
       "      <td>20400.000000</td>\n",
       "      <td>20400.000000</td>\n",
       "      <td>20400.000000</td>\n",
       "      <td>20400.000000</td>\n",
       "    </tr>\n",
       "    <tr>\n",
       "      <th>mean</th>\n",
       "      <td>0.093379</td>\n",
       "      <td>0.170769</td>\n",
       "      <td>0.085727</td>\n",
       "      <td>0.083358</td>\n",
       "      <td>0.081565</td>\n",
       "      <td>0.077806</td>\n",
       "      <td>0.089138</td>\n",
       "      <td>0.288295</td>\n",
       "      <td>0.076904</td>\n",
       "      <td>0.361983</td>\n",
       "      <td>...</td>\n",
       "      <td>0.154984</td>\n",
       "      <td>0.088354</td>\n",
       "      <td>0.068577</td>\n",
       "      <td>0.106259</td>\n",
       "      <td>0.044411</td>\n",
       "      <td>0.089899</td>\n",
       "      <td>0.112731</td>\n",
       "      <td>0.095589</td>\n",
       "      <td>0.226259</td>\n",
       "      <td>0.088306</td>\n",
       "    </tr>\n",
       "    <tr>\n",
       "      <th>std</th>\n",
       "      <td>0.029626</td>\n",
       "      <td>0.226836</td>\n",
       "      <td>0.027424</td>\n",
       "      <td>0.125755</td>\n",
       "      <td>0.026887</td>\n",
       "      <td>0.228512</td>\n",
       "      <td>0.030635</td>\n",
       "      <td>0.266695</td>\n",
       "      <td>0.021746</td>\n",
       "      <td>0.260886</td>\n",
       "      <td>...</td>\n",
       "      <td>0.181619</td>\n",
       "      <td>0.026427</td>\n",
       "      <td>0.108509</td>\n",
       "      <td>0.038828</td>\n",
       "      <td>0.105197</td>\n",
       "      <td>0.030738</td>\n",
       "      <td>0.159571</td>\n",
       "      <td>0.028348</td>\n",
       "      <td>0.230759</td>\n",
       "      <td>0.027452</td>\n",
       "    </tr>\n",
       "    <tr>\n",
       "      <th>min</th>\n",
       "      <td>0.001400</td>\n",
       "      <td>-0.235800</td>\n",
       "      <td>0.009300</td>\n",
       "      <td>-0.162100</td>\n",
       "      <td>0.003200</td>\n",
       "      <td>-0.160000</td>\n",
       "      <td>0.002100</td>\n",
       "      <td>-0.150500</td>\n",
       "      <td>0.001400</td>\n",
       "      <td>0.085600</td>\n",
       "      <td>...</td>\n",
       "      <td>-0.086500</td>\n",
       "      <td>0.006900</td>\n",
       "      <td>-0.228700</td>\n",
       "      <td>0.004000</td>\n",
       "      <td>-0.235500</td>\n",
       "      <td>0.003700</td>\n",
       "      <td>-0.175800</td>\n",
       "      <td>0.003700</td>\n",
       "      <td>-0.124500</td>\n",
       "      <td>0.002900</td>\n",
       "    </tr>\n",
       "    <tr>\n",
       "      <th>25%</th>\n",
       "      <td>0.074400</td>\n",
       "      <td>0.049800</td>\n",
       "      <td>0.066000</td>\n",
       "      <td>0.027200</td>\n",
       "      <td>0.062000</td>\n",
       "      <td>0.007400</td>\n",
       "      <td>0.068600</td>\n",
       "      <td>0.133200</td>\n",
       "      <td>0.061000</td>\n",
       "      <td>0.229675</td>\n",
       "      <td>...</td>\n",
       "      <td>0.054700</td>\n",
       "      <td>0.071500</td>\n",
       "      <td>0.017000</td>\n",
       "      <td>0.082100</td>\n",
       "      <td>-0.009000</td>\n",
       "      <td>0.067300</td>\n",
       "      <td>0.023500</td>\n",
       "      <td>0.077400</td>\n",
       "      <td>0.114100</td>\n",
       "      <td>0.069900</td>\n",
       "    </tr>\n",
       "    <tr>\n",
       "      <th>50%</th>\n",
       "      <td>0.089500</td>\n",
       "      <td>0.108700</td>\n",
       "      <td>0.081000</td>\n",
       "      <td>0.057800</td>\n",
       "      <td>0.077100</td>\n",
       "      <td>0.041200</td>\n",
       "      <td>0.083400</td>\n",
       "      <td>0.200400</td>\n",
       "      <td>0.074200</td>\n",
       "      <td>0.302000</td>\n",
       "      <td>...</td>\n",
       "      <td>0.102200</td>\n",
       "      <td>0.086300</td>\n",
       "      <td>0.044400</td>\n",
       "      <td>0.101900</td>\n",
       "      <td>0.022700</td>\n",
       "      <td>0.085300</td>\n",
       "      <td>0.095500</td>\n",
       "      <td>0.093700</td>\n",
       "      <td>0.160300</td>\n",
       "      <td>0.085500</td>\n",
       "    </tr>\n",
       "    <tr>\n",
       "      <th>75%</th>\n",
       "      <td>0.107900</td>\n",
       "      <td>0.212400</td>\n",
       "      <td>0.099800</td>\n",
       "      <td>0.096400</td>\n",
       "      <td>0.096900</td>\n",
       "      <td>0.093400</td>\n",
       "      <td>0.102700</td>\n",
       "      <td>0.369400</td>\n",
       "      <td>0.090600</td>\n",
       "      <td>0.408900</td>\n",
       "      <td>...</td>\n",
       "      <td>0.191000</td>\n",
       "      <td>0.101900</td>\n",
       "      <td>0.080300</td>\n",
       "      <td>0.122300</td>\n",
       "      <td>0.068900</td>\n",
       "      <td>0.107900</td>\n",
       "      <td>0.145700</td>\n",
       "      <td>0.111100</td>\n",
       "      <td>0.255100</td>\n",
       "      <td>0.103700</td>\n",
       "    </tr>\n",
       "    <tr>\n",
       "      <th>max</th>\n",
       "      <td>0.376100</td>\n",
       "      <td>12.451700</td>\n",
       "      <td>0.241100</td>\n",
       "      <td>4.799900</td>\n",
       "      <td>0.331200</td>\n",
       "      <td>25.915800</td>\n",
       "      <td>0.325400</td>\n",
       "      <td>4.882700</td>\n",
       "      <td>0.198900</td>\n",
       "      <td>8.290800</td>\n",
       "      <td>...</td>\n",
       "      <td>4.012000</td>\n",
       "      <td>0.687200</td>\n",
       "      <td>2.815200</td>\n",
       "      <td>2.035300</td>\n",
       "      <td>2.524200</td>\n",
       "      <td>0.357700</td>\n",
       "      <td>3.978200</td>\n",
       "      <td>0.340700</td>\n",
       "      <td>5.836400</td>\n",
       "      <td>0.265100</td>\n",
       "    </tr>\n",
       "  </tbody>\n",
       "</table>\n",
       "<p>8 rows × 21 columns</p>\n",
       "</div>"
      ],
      "text/plain": [
       "           H.period   UD.period.t           H.t        UD.t.i           H.i  \\\n",
       "count  20400.000000  20400.000000  20400.000000  20400.000000  20400.000000   \n",
       "mean       0.093379      0.170769      0.085727      0.083358      0.081565   \n",
       "std        0.029626      0.226836      0.027424      0.125755      0.026887   \n",
       "min        0.001400     -0.235800      0.009300     -0.162100      0.003200   \n",
       "25%        0.074400      0.049800      0.066000      0.027200      0.062000   \n",
       "50%        0.089500      0.108700      0.081000      0.057800      0.077100   \n",
       "75%        0.107900      0.212400      0.099800      0.096400      0.096900   \n",
       "max        0.376100     12.451700      0.241100      4.799900      0.331200   \n",
       "\n",
       "             UD.i.e           H.e     UD.e.five        H.five  \\\n",
       "count  20400.000000  20400.000000  20400.000000  20400.000000   \n",
       "mean       0.077806      0.089138      0.288295      0.076904   \n",
       "std        0.228512      0.030635      0.266695      0.021746   \n",
       "min       -0.160000      0.002100     -0.150500      0.001400   \n",
       "25%        0.007400      0.068600      0.133200      0.061000   \n",
       "50%        0.041200      0.083400      0.200400      0.074200   \n",
       "75%        0.093400      0.102700      0.369400      0.090600   \n",
       "max       25.915800      0.325400      4.882700      0.198900   \n",
       "\n",
       "       UD.five.Shift.r  ...  UD.Shift.r.o           H.o        UD.o.a  \\\n",
       "count     20400.000000  ...  20400.000000  20400.000000  20400.000000   \n",
       "mean          0.361983  ...      0.154984      0.088354      0.068577   \n",
       "std           0.260886  ...      0.181619      0.026427      0.108509   \n",
       "min           0.085600  ...     -0.086500      0.006900     -0.228700   \n",
       "25%           0.229675  ...      0.054700      0.071500      0.017000   \n",
       "50%           0.302000  ...      0.102200      0.086300      0.044400   \n",
       "75%           0.408900  ...      0.191000      0.101900      0.080300   \n",
       "max           8.290800  ...      4.012000      0.687200      2.815200   \n",
       "\n",
       "                H.a        UD.a.n           H.n        UD.n.l           H.l  \\\n",
       "count  20400.000000  20400.000000  20400.000000  20400.000000  20400.000000   \n",
       "mean       0.106259      0.044411      0.089899      0.112731      0.095589   \n",
       "std        0.038828      0.105197      0.030738      0.159571      0.028348   \n",
       "min        0.004000     -0.235500      0.003700     -0.175800      0.003700   \n",
       "25%        0.082100     -0.009000      0.067300      0.023500      0.077400   \n",
       "50%        0.101900      0.022700      0.085300      0.095500      0.093700   \n",
       "75%        0.122300      0.068900      0.107900      0.145700      0.111100   \n",
       "max        2.035300      2.524200      0.357700      3.978200      0.340700   \n",
       "\n",
       "        UD.l.Return      H.Return  \n",
       "count  20400.000000  20400.000000  \n",
       "mean       0.226259      0.088306  \n",
       "std        0.230759      0.027452  \n",
       "min       -0.124500      0.002900  \n",
       "25%        0.114100      0.069900  \n",
       "50%        0.160300      0.085500  \n",
       "75%        0.255100      0.103700  \n",
       "max        5.836400      0.265100  \n",
       "\n",
       "[8 rows x 21 columns]"
      ]
     },
     "execution_count": 69,
     "metadata": {},
     "output_type": "execute_result"
    }
   ],
   "source": [
    "data_statistics = df.drop(['subject', 'rep', 'sessionIndex'], axis=1)\n",
    "data_statistics.describe()"
   ]
  },
  {
   "cell_type": "code",
   "execution_count": 70,
   "metadata": {},
   "outputs": [
    {
     "data": {
      "image/png": "[encoded data removed]",
      "text/plain": [
       "<Figure size 432x288 with 1 Axes>"
      ]
     },
     "metadata": {
      "needs_background": "light"
     },
     "output_type": "display_data"
    },
    {
     "data": {
      "image/png": "[encoded data removed]",
      "text/plain": [
       "<Figure size 432x288 with 1 Axes>"
      ]
     },
     "metadata": {
      "needs_background": "light"
     },
     "output_type": "display_data"
    }
   ],
   "source": [
    "# Create Boxplots for hold and updown times\n",
    "hold_times = df.drop(['subject', 'rep', 'sessionIndex', 'UD.period.t', 'UD.five.Shift.r','UD.t.i', 'UD.e.five', 'UD.Shift.r.o', 'UD.o.a', 'UD.n.l', 'UD.i.e', 'UD.a.n', 'UD.l.Return'],axis=1)\n",
    "boxplot_hold = hold_times.boxplot(showfliers=False)\n",
    "boxplot_hold.set_title('Boxplot Hold Times')\n",
    "plt.xticks(rotation=45)\n",
    "plt.show()\n",
    "\n",
    "updown_times = df.drop(['subject', 'rep', 'sessionIndex', 'H.period', 'H.t', 'H.i', 'H.e', 'H.five', 'H.Shift.r', 'H.o', 'H.a', 'H.n', 'H.l', 'H.Return'],axis=1)\n",
    "boxplot_updown = updown_times.boxplot(showfliers=False)\n",
    "boxplot_updown.set_title('Boxplot Updown Times')\n",
    "plt.xticks(rotation=45)\n",
    "plt.show()"
   ]
  },
  {
   "cell_type": "markdown",
   "metadata": {},
   "source": [
    "## 1. Naive Bayes Classifier"
   ]
  },
  {
   "cell_type": "code",
   "execution_count": 71,
   "metadata": {
    "colab": {
     "base_uri": "https://localhost:8080/",
     "height": 295
    },
    "id": "gyTMHFUjT4iu",
    "outputId": "bb4ba2f9-2a17-41d4-c153-dff2a509bd2c"
   },
   "outputs": [
    {
     "data": {
      "image/png": "[encoded data removed]",
      "text/plain": [
       "<Figure size 432x288 with 1 Axes>"
      ]
     },
     "metadata": {
      "needs_background": "light"
     },
     "output_type": "display_data"
    }
   ],
   "source": [
    "# Implement Bayesian (Gaussian) Classifier\n",
    "\n",
    "accuraciesGaussian = list([])\n",
    "sampleCountGaussian = []\n",
    "reps = [1,2,3,5,10,15,20,25,30,35,40,45,50]\n",
    "rep_count = 50\n",
    "\n",
    "\n",
    "def gaussian():\n",
    "    for element in reps:\n",
    "        curDF = df[df['rep'] <= element]\n",
    "        #lowering the amount of subjects\n",
    "        curDF = curDF[curDF['subject'] < 60]\n",
    "        subject_vector = curDF[\"subject\"]\n",
    "        subject_vector = np.array(subject_vector)\n",
    "\n",
    "        del curDF['subject']\n",
    "        del curDF['rep']\n",
    "        del curDF['sessionIndex']\n",
    "        samples = np.array(curDF)\n",
    "\n",
    "        #splitting train and test set\n",
    "        X_train, X_test, y_train, y_test = train_test_split(samples, subject_vector, test_size=0.2,random_state=109)\n",
    "\n",
    "        #Feeding data into the naive bayesian classifier\n",
    "        model = GaussianNB()\n",
    "        model.fit(X_train, y_train)\n",
    "\n",
    "        #testing the model\n",
    "        #testing protocol for methodology\n",
    "        test_vector = np.random.randint(0, 56, 3672)\n",
    "        predictions = model.predict(X_test)\n",
    "        accuracy = metrics.accuracy_score(y_test, predictions)\n",
    "\n",
    "        accuraciesGaussian.append(accuracy)\n",
    "        sampleCountGaussian.append(element*8)\n",
    "    return accuraciesGaussian,sampleCountGaussian\n",
    "\n",
    "\n",
    "gaussian()\n",
    "\n",
    "# Plot accuracy per samples per user\n",
    "\n",
    "plt.plot(sampleCountGaussian, accuraciesGaussian)\n",
    "plt.xlabel(\"Samples used per subject\")\n",
    "plt.ylabel(\"Accuracy\")\n",
    "plt.title('Accuracy Bayesian by sample size')\n",
    "plt.show()"
   ]
  },
  {
   "cell_type": "markdown",
   "metadata": {},
   "source": [
    "## 2. Decision Tree"
   ]
  },
  {
   "cell_type": "code",
   "execution_count": 72,
   "metadata": {
    "colab": {
     "base_uri": "https://localhost:8080/",
     "height": 295
    },
    "id": "cqAcmsvlZ7Ik",
    "outputId": "27954f95-aa35-4b36-a0c3-04f92b0aa7a1"
   },
   "outputs": [
    {
     "data": {
      "image/png": "[encoded data removed]",
      "text/plain": [
       "<Figure size 432x288 with 1 Axes>"
      ]
     },
     "metadata": {
      "needs_background": "light"
     },
     "output_type": "display_data"
    }
   ],
   "source": [
    "# Implement Decision Tree Classifier\n",
    "\n",
    "reps = [1,2,3,5,10,15,20,25,30,35,40,45,50]\n",
    "rep_count = 50\n",
    "accuracies = list([])\n",
    "sampleCount = []\n",
    "\n",
    "for element in reps:\n",
    "    curDF = df[df['rep'] <= element]\n",
    "    #lowering the amount of subjects\n",
    "    curDF = curDF[curDF['subject'] < 60]\n",
    "    subject_vector = curDF[\"subject\"]\n",
    "    subject_vector = np.array(subject_vector)\n",
    "    del curDF['subject']\n",
    "    del curDF['rep']\n",
    "    del curDF['sessionIndex']\n",
    "    ind_vars = np.array(curDF)\n",
    "    #split train and test set\n",
    "    X_train, X_test, y_train, y_test = train_test_split(ind_vars, subject_vector, test_size=0.2,random_state=103)\n",
    "\n",
    "    # Create Decision Tree classifier object\n",
    "    clf = DecisionTreeClassifier()\n",
    "\n",
    "    # Train Decision Tree Classifier\n",
    "    clf = clf.fit(X_train, y_train)\n",
    "\n",
    "    # Predict the response for test dataset\n",
    "    y_pred = clf.predict(X_test)\n",
    "    accuracy = metrics.accuracy_score(y_test, y_pred)\n",
    "    accuracies.append(accuracy)\n",
    "    sampleCount.append(element*8)\n",
    "\n",
    "dot_data = StringIO()\n",
    "feature_cols = [\"H.period\",\"UD.period.t\",\"H.t\",\"UD.t.i\",\"H.i\",\"UD.i.e\",\"H.e\",\"UD.e.five\",\"H.five\",\"UD.five.Shift.r\",\"H.Shift.r\", \"UD.Shift.r.o\",\"H.o\", \"UD.o.a\" ,\"H.a\",\"UD.a.n\",\"H.n\", \"UD.n.l\",\"H.l\",\"UD.l.Return\",\"H.Return\"]\n",
    "\n",
    "# we computed the decision tree before because it takes quite some time\n",
    "img = Image.open('dec_tree_keystrokes_depth4.png')\n",
    "img.show()\n",
    "\n",
    "# visualize accuracy per train data supplied\n",
    "plt.plot(sampleCount, accuracies)\n",
    "plt.xlabel(\"Samples used per subject\")\n",
    "plt.ylabel(\"Accuracy of Decision Tree Classifier\")\n",
    "plt.title('Accuracy Decision Tree by sample size')\n",
    "plt.show()"
   ]
  },
  {
   "cell_type": "markdown",
   "metadata": {},
   "source": [
    "\n",
    "\n",
    "## Results:\n",
    "\n",
    "Both models surpass an accuracy of 70%.\n",
    "\n",
    "Model  | Accuracy 500 test samples\n",
    "-------------------|------------------\n",
    "Bayesian Classifier | 73.3%\n",
    "Decision Tree | 71.8%\n",
    "\n",
    "Overall, depending on the sample size, Bayesian obtained the highest accuracy. For an input size smaller than 100, Bayesian proved as the most precise classification method. The Decision Tree needs a bigger sample size compared with Bayesian in order to obtain the same results. \n",
    "It seems that after utilizing 250 samples, the Bayesian Classifier can no longer accomplish higher accuracy by utilizing more data.\n",
    "\n",
    "For the Decision Tree model it seems like even more data could have contributed to even higher accuracy. However, as we were limited by the data set we had available, we could not verify that hypothesis.\n",
    "Under data scarcity the Naïve Bayesian Classifier is the better choice. \n",
    "\n",
    "**Can users be verified/identified by analyzing their keystroke dynamics?**\n",
    "\n",
    "Our results have confirmed this thesis. Given that substantial training data is available (>25 per subject), keystroke dynamics could be analyzed to authenticate a user. Of course, the accuracy i.e. of the NBC is only at ~68% accuracy for this amount of data. However, it must be considered that instead of identifying the user in a group of 50, authentication only means validating the assumption that the typing person is indeed said user. \n",
    "For this, we would argue that the explanatory power of the models are sufficient. \n",
    "\n",
    "However, in order to identify a user via analyzing keystroke dynamics, the attained accuracies might not be enough, especially as there would be several thousand users in a real world example."
   ]
  }
 ],
 "metadata": {
  "colab": {
   "collapsed_sections": [],
   "name": "DataMiningGroup07.ipynb",
   "provenance": []
  },
  "kernelspec": {
   "display_name": "Python 3",
   "language": "python",
   "name": "python3"
  },
  "language_info": {
   "codemirror_mode": {
    "name": "ipython",
    "version": 3
   },
   "file_extension": ".py",
   "mimetype": "text/x-python",
   "name": "python",
   "nbconvert_exporter": "python",
   "pygments_lexer": "ipython3",
   "version": "3.8.3"
  }
 },
 "nbformat": 4,
 "nbformat_minor": 1
}
